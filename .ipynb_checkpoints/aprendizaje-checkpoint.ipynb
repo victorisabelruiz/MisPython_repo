{
 "cells": [
  {
   "cell_type": "code",
   "execution_count": 1,
   "metadata": {},
   "outputs": [],
   "source": [
    "import pyspark"
   ]
  },
  {
   "cell_type": "markdown",
   "metadata": {},
   "source": [
    "# Cosas útiles"
   ]
  },
  {
   "cell_type": "markdown",
   "metadata": {
    "heading_collapsed": true
   },
   "source": [
    "## Importar de clases de otros directorios"
   ]
  },
  {
   "cell_type": "code",
   "execution_count": 2,
   "metadata": {
    "hidden": true
   },
   "outputs": [],
   "source": [
    "# tenemos un directorio que es C:/Users/vr255019/MisPython/folder1/aprendizaje.py\n",
    "# aprendizaje.py tiene dentro varias clases (entre ellas Superwoman)\n",
    "# hacemos la importacion así\n",
    "\n",
    "import sys\n",
    "REPO_PATH = 'C:/Users/vr255019'\n",
    "sys.path.append(REPO_PATH)\n",
    "\n",
    "from MisPython.folder1.aprendizaje import Superwoman,Abuelo, variable_prueba\n",
    "\n",
    "# si tuvieramos un directorio así C:/Users/vr255019/MisPython/folder1/__init__.py\n",
    "# entonces python da prioridad al fichero __init__ y lo podemos excluir de la parte from de la importacion\n",
    "# no hace falta que __init__ sea el unico .py en el directorio C:/Users/vr255019/MisPython/folder1\n",
    "\n",
    "from MisPython.folder1 import Superman"
   ]
  },
  {
   "cell_type": "code",
   "execution_count": 2,
   "metadata": {
    "hidden": true
   },
   "outputs": [
    {
     "name": "stdout",
     "output_type": "stream",
     "text": [
      "Hiiiii!\n"
     ]
    }
   ],
   "source": [
    "Abuelo('2').say_hi()"
   ]
  },
  {
   "cell_type": "code",
   "execution_count": 3,
   "metadata": {
    "hidden": true
   },
   "outputs": [
    {
     "data": {
      "text/plain": [
       "2"
      ]
     },
     "execution_count": 3,
     "metadata": {},
     "output_type": "execute_result"
    }
   ],
   "source": [
    "Superwoman(2).familia"
   ]
  },
  {
   "cell_type": "markdown",
   "metadata": {
    "hidden": true
   },
   "source": [
    "También se pueden importar variables que estén sueltas (no metidas en ningún método o clase)"
   ]
  },
  {
   "cell_type": "code",
   "execution_count": 3,
   "metadata": {
    "hidden": true
   },
   "outputs": [
    {
     "data": {
      "text/plain": [
       "3"
      ]
     },
     "execution_count": 3,
     "metadata": {},
     "output_type": "execute_result"
    }
   ],
   "source": [
    "variable_prueba"
   ]
  },
  {
   "cell_type": "markdown",
   "metadata": {
    "heading_collapsed": true
   },
   "source": [
    "## Documentar funciones"
   ]
  },
  {
   "cell_type": "code",
   "execution_count": 4,
   "metadata": {
    "hidden": true
   },
   "outputs": [],
   "source": [
    "def fibo(h):\n",
    "    \"\"\"Recibe un numero natural h\n",
    "\n",
    "    Devuelve el termino h de la sucesion de Fibonacci mediante recursion\n",
    "\n",
    "    .\n",
    "    \"\"\"\n",
    "\n",
    "    if h > 1:\n",
    "        return fibo(h-1) + fibo(h-2)\n",
    "    else:\n",
    "        return 1\n",
    "# de este modo ya aparece en el apartado docstring al hacer tabulacion tras el nombre de la llamada a funcion"
   ]
  },
  {
   "cell_type": "code",
   "execution_count": null,
   "metadata": {
    "hidden": true
   },
   "outputs": [],
   "source": [
    "fibo()"
   ]
  },
  {
   "cell_type": "markdown",
   "metadata": {},
   "source": [
    "## Herencia de clases con varios niveles"
   ]
  },
  {
   "cell_type": "code",
   "execution_count": 2,
   "metadata": {},
   "outputs": [],
   "source": [
    "class Abuelo():\n",
    "    def __init__(self, a):\n",
    "        self.familia = a\n",
    "\n",
    "    @staticmethod\n",
    "    def say_hi():  # notese que este puede omitir el self\n",
    "        print(\"Hiiiii!\")\n",
    "\n",
    "    def say_bye(self):  # pero este no. Es debido al decorator staticmethod\n",
    "        print(\"Byeeeee!\")\n",
    "\n",
    "\n",
    "class Padre(Abuelo):\n",
    "    def __init__(self, a, b):\n",
    "        super().__init__(b)\n",
    "        self.nombre_padre = a\n",
    "\n",
    "\n",
    "class Hijo(Padre):\n",
    "    def __init__(self, a, b, c):\n",
    "        self.edad = 4\n",
    "        self.hijo = a\n",
    "        super().__init__(b, c)\n",
    "\n",
    "\n",
    "victor = Hijo(\"Victor\", \"Javi\", \"Los isabel\")"
   ]
  },
  {
   "cell_type": "code",
   "execution_count": 5,
   "metadata": {},
   "outputs": [
    {
     "name": "stdout",
     "output_type": "stream",
     "text": [
      "Byeeeee!\n"
     ]
    }
   ],
   "source": [
    "victor.say_bye()"
   ]
  },
  {
   "cell_type": "code",
   "execution_count": 4,
   "metadata": {},
   "outputs": [
    {
     "name": "stdout",
     "output_type": "stream",
     "text": [
      "Hiiiii!\n"
     ]
    }
   ],
   "source": [
    "victor.say_hi()"
   ]
  },
  {
   "cell_type": "code",
   "execution_count": 12,
   "metadata": {},
   "outputs": [
    {
     "name": "stdout",
     "output_type": "stream",
     "text": [
      "Soy un perrete simpatiquete\n",
      "Soy una mascota\n",
      "Soy un mamifero\n",
      "Soy un animal\n",
      "Soy: Tyler\n",
      "¡Un ser vivo!\n"
     ]
    }
   ],
   "source": [
    "class SerVivo():\n",
    "    def __init__(self,nombre1):\n",
    "        self.nombre = nombre1\n",
    "        print(\"Soy\", self.nombre, sep = ': ')\n",
    "        print(\"¡Un ser vivo!\")\n",
    "\n",
    "class Animal(SerVivo): # a animal la apuntan dos veces, pero no pasas por el constructor 2 veces sino 1\n",
    "    def __init__(self, nombre2):\n",
    "        print(\"Soy un animal\")\n",
    "        super().__init__(nombre2)\n",
    "        \n",
    "class Mascota(Animal):\n",
    "    def __init__(self, nombre2):\n",
    "        print(\"Soy una mascota\")\n",
    "        super().__init__(nombre2)\n",
    "        \n",
    "class Mamifero(Animal):\n",
    "    def __init__(self, nombre2):\n",
    "        print(\"Soy un mamifero\")\n",
    "        super().__init__(nombre2)\n",
    "        \n",
    "class Perro(Mascota,Mamifero):\n",
    "    def __init__(self,nombre4):\n",
    "        print(\"Soy un perrete simpatiquete\")\n",
    "        super().__init__(nombre4)\n",
    "        \n",
    "Tyler = Perro('Tyler')"
   ]
  },
  {
   "cell_type": "code",
   "execution_count": 13,
   "metadata": {},
   "outputs": [
    {
     "data": {
      "text/plain": [
       "(__main__.Perro,\n",
       " __main__.Mascota,\n",
       " __main__.Mamifero,\n",
       " __main__.Animal,\n",
       " __main__.SerVivo,\n",
       " object)"
      ]
     },
     "execution_count": 13,
     "metadata": {},
     "output_type": "execute_result"
    }
   ],
   "source": [
    "Perro.__mro__ # vemos el orden de las clases"
   ]
  },
  {
   "cell_type": "markdown",
   "metadata": {},
   "source": [
    "## kwargs y args"
   ]
  },
  {
   "cell_type": "code",
   "execution_count": 70,
   "metadata": {},
   "outputs": [
    {
     "name": "stdout",
     "output_type": "stream",
     "text": [
      "otro 2\n",
      "3\n",
      "\n",
      "\n",
      "\n",
      "Hello\n",
      "Welcome\n",
      "to\n",
      "GeeksforGeeks\n"
     ]
    }
   ],
   "source": [
    "def funcion(uno,**kwargs):\n",
    "    \n",
    "    print('otro %s' % (kwargs['otro']))\n",
    "    print(kwargs['ma'])\n",
    "    \n",
    "funcion(2,otro='2',ma=3,no=3)\n",
    "\n",
    "print('\\n\\n')\n",
    "\n",
    "def myFun(*argv): \n",
    "\tfor arg in argv: \n",
    "\t\tprint (arg)\n",
    "\n",
    "myFun('Hello', 'Welcome', 'to', 'GeeksforGeeks') \n"
   ]
  },
  {
   "cell_type": "markdown",
   "metadata": {},
   "source": [
    "# K-means a mano"
   ]
  },
  {
   "cell_type": "code",
   "execution_count": 15,
   "metadata": {},
   "outputs": [],
   "source": [
    "class my_KMeans():\n",
    "    \n",
    "    def fit(self,data):\n",
    "        self.data = data    \n",
    "    \n"
   ]
  },
  {
   "cell_type": "code",
   "execution_count": 16,
   "metadata": {},
   "outputs": [],
   "source": [
    "# puntos de R3, generamos 10\n",
    "import random\n",
    "\n",
    "datos = [(random.randint(0,20),random.randint(0,20),random.randint(0,20)) for a in range(10)]\n",
    "\n",
    "mi_modelo = my_KMeans()\n",
    "mi_modelo.fit(datos)"
   ]
  },
  {
   "cell_type": "code",
   "execution_count": 17,
   "metadata": {},
   "outputs": [
    {
     "data": {
      "text/plain": [
       "[(0, 10, 0),\n",
       " (5, 14, 12),\n",
       " (9, 10, 4),\n",
       " (6, 8, 8),\n",
       " (14, 0, 17),\n",
       " (6, 8, 19),\n",
       " (20, 20, 10),\n",
       " (8, 5, 0),\n",
       " (13, 2, 8),\n",
       " (13, 20, 3)]"
      ]
     },
     "execution_count": 17,
     "metadata": {},
     "output_type": "execute_result"
    }
   ],
   "source": [
    "mi_modelo.data"
   ]
  }
 ],
 "metadata": {
  "kernelspec": {
   "display_name": "Python 3",
   "language": "python",
   "name": "python3"
  },
  "language_info": {
   "codemirror_mode": {
    "name": "ipython",
    "version": 3
   },
   "file_extension": ".py",
   "mimetype": "text/x-python",
   "name": "python",
   "nbconvert_exporter": "python",
   "pygments_lexer": "ipython3",
   "version": "3.8.3"
  },
  "toc": {
   "base_numbering": 1,
   "nav_menu": {},
   "number_sections": true,
   "sideBar": true,
   "skip_h1_title": false,
   "title_cell": "Table of Contents",
   "title_sidebar": "Contents",
   "toc_cell": false,
   "toc_position": {
    "height": "542px",
    "left": "648px",
    "top": "192.8px",
    "width": "303px"
   },
   "toc_section_display": true,
   "toc_window_display": true
  }
 },
 "nbformat": 4,
 "nbformat_minor": 4
}
