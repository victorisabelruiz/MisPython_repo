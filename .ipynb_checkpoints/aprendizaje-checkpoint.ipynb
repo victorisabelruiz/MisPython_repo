{
 "cells": [
  {
   "cell_type": "code",
   "execution_count": 1,
   "metadata": {},
   "outputs": [],
   "source": [
    "import pyspark"
   ]
  },
  {
   "cell_type": "markdown",
   "metadata": {},
   "source": [
    "# Cosas útiles"
   ]
  },
  {
   "cell_type": "markdown",
   "metadata": {},
   "source": [
    "## Importar de clases de otros directorios"
   ]
  },
  {
   "cell_type": "code",
   "execution_count": 1,
   "metadata": {},
   "outputs": [
    {
     "name": "stdout",
     "output_type": "stream",
     "text": [
      "hey oh let's go\n"
     ]
    }
   ],
   "source": [
    "# tenemos un directorio que es C:/Users/vr255019/MisPython/folder1/aprendizaje.py\n",
    "# aprendizaje.py tiene dentro varias clases (entre ellas Superwoman)\n",
    "# hacemos la importacion así\n",
    "\n",
    "import sys\n",
    "REPO_PATH = 'C:/Users/vr255019'\n",
    "sys.path.append(REPO_PATH)\n",
    "\n",
    "from MisPython.folder1.aprendizaje import Superwoman,Abuelo, variable_prueba\n",
    "\n",
    "# si tuvieramos un directorio así C:/Users/vr255019/MisPython/folder1/__init__.py\n",
    "# entonces python da prioridad al fichero __init__ y lo podemos excluir de la parte from de la importacion\n",
    "# no hace falta que __init__ sea el unico .py en el directorio C:/Users/vr255019/MisPython/folder1\n",
    "\n",
    "from MisPython.folder1 import Superman\n",
    "\n",
    "# solo lo carga 1 vez, si modificas el codigo fuente y quieres ver los cambios necesitas restart the kernel"
   ]
  },
  {
   "cell_type": "code",
   "execution_count": 2,
   "metadata": {},
   "outputs": [
    {
     "name": "stdout",
     "output_type": "stream",
     "text": [
      "Hiiiii!\n"
     ]
    }
   ],
   "source": [
    "Abuelo('2').say_hi()"
   ]
  },
  {
   "cell_type": "code",
   "execution_count": 3,
   "metadata": {},
   "outputs": [
    {
     "data": {
      "text/plain": [
       "2"
      ]
     },
     "execution_count": 3,
     "metadata": {},
     "output_type": "execute_result"
    }
   ],
   "source": [
    "Superwoman(2).familia"
   ]
  },
  {
   "cell_type": "markdown",
   "metadata": {},
   "source": [
    "También se pueden importar variables que estén sueltas (no metidas en ningún método o clase)"
   ]
  },
  {
   "cell_type": "code",
   "execution_count": 2,
   "metadata": {},
   "outputs": [
    {
     "data": {
      "text/plain": [
       "103"
      ]
     },
     "execution_count": 2,
     "metadata": {},
     "output_type": "execute_result"
    }
   ],
   "source": [
    "variable_prueba"
   ]
  },
  {
   "cell_type": "markdown",
   "metadata": {
    "heading_collapsed": true
   },
   "source": [
    "## Documentar funciones"
   ]
  },
  {
   "cell_type": "code",
   "execution_count": 4,
   "metadata": {
    "hidden": true
   },
   "outputs": [],
   "source": [
    "def fibo(h):\n",
    "    \"\"\"Recibe un numero natural h\n",
    "\n",
    "    Devuelve el termino h de la sucesion de Fibonacci mediante recursion\n",
    "\n",
    "    .\n",
    "    \"\"\"\n",
    "\n",
    "    if h > 1:\n",
    "        return fibo(h-1) + fibo(h-2)\n",
    "    else:\n",
    "        return 1\n",
    "# de este modo ya aparece en el apartado docstring al hacer tabulacion tras el nombre de la llamada a funcion"
   ]
  },
  {
   "cell_type": "code",
   "execution_count": null,
   "metadata": {
    "hidden": true
   },
   "outputs": [],
   "source": [
    "fibo()"
   ]
  },
  {
   "cell_type": "markdown",
   "metadata": {
    "heading_collapsed": true
   },
   "source": [
    "## Herencia de clases con varios niveles"
   ]
  },
  {
   "cell_type": "code",
   "execution_count": 2,
   "metadata": {
    "hidden": true
   },
   "outputs": [],
   "source": [
    "class Abuelo():\n",
    "    def __init__(self, a):\n",
    "        self.familia = a\n",
    "\n",
    "    @staticmethod\n",
    "    def say_hi():  # notese que este puede omitir el self\n",
    "        print(\"Hiiiii!\")\n",
    "\n",
    "    def say_bye(self):  # pero este no. Es debido al decorator staticmethod\n",
    "        print(\"Byeeeee!\")\n",
    "\n",
    "\n",
    "class Padre(Abuelo):\n",
    "    def __init__(self, a, b):\n",
    "        super().__init__(b)\n",
    "        self.nombre_padre = a\n",
    "\n",
    "\n",
    "class Hijo(Padre):\n",
    "    def __init__(self, a, b, c):\n",
    "        self.edad = 4\n",
    "        self.hijo = a\n",
    "        super().__init__(b, c)\n",
    "\n",
    "\n",
    "victor = Hijo(\"Victor\", \"Javi\", \"Los isabel\")"
   ]
  },
  {
   "cell_type": "code",
   "execution_count": 5,
   "metadata": {
    "hidden": true
   },
   "outputs": [
    {
     "name": "stdout",
     "output_type": "stream",
     "text": [
      "Byeeeee!\n"
     ]
    }
   ],
   "source": [
    "victor.say_bye()"
   ]
  },
  {
   "cell_type": "code",
   "execution_count": 4,
   "metadata": {
    "hidden": true
   },
   "outputs": [
    {
     "name": "stdout",
     "output_type": "stream",
     "text": [
      "Hiiiii!\n"
     ]
    }
   ],
   "source": [
    "victor.say_hi()"
   ]
  },
  {
   "cell_type": "code",
   "execution_count": 12,
   "metadata": {
    "hidden": true
   },
   "outputs": [
    {
     "name": "stdout",
     "output_type": "stream",
     "text": [
      "Soy un perrete simpatiquete\n",
      "Soy una mascota\n",
      "Soy un mamifero\n",
      "Soy un animal\n",
      "Soy: Tyler\n",
      "¡Un ser vivo!\n"
     ]
    }
   ],
   "source": [
    "class SerVivo():\n",
    "    def __init__(self,nombre1):\n",
    "        self.nombre = nombre1\n",
    "        print(\"Soy\", self.nombre, sep = ': ')\n",
    "        print(\"¡Un ser vivo!\")\n",
    "\n",
    "class Animal(SerVivo): # a animal la apuntan dos veces, pero no pasas por el constructor 2 veces sino 1\n",
    "    def __init__(self, nombre2):\n",
    "        print(\"Soy un animal\")\n",
    "        super().__init__(nombre2)\n",
    "        \n",
    "class Mascota(Animal):\n",
    "    def __init__(self, nombre2):\n",
    "        print(\"Soy una mascota\")\n",
    "        super().__init__(nombre2)\n",
    "        \n",
    "class Mamifero(Animal):\n",
    "    def __init__(self, nombre2):\n",
    "        print(\"Soy un mamifero\")\n",
    "        super().__init__(nombre2)\n",
    "        \n",
    "class Perro(Mascota,Mamifero):\n",
    "    def __init__(self,nombre4):\n",
    "        print(\"Soy un perrete simpatiquete\")\n",
    "        super().__init__(nombre4)\n",
    "        \n",
    "Tyler = Perro('Tyler')"
   ]
  },
  {
   "cell_type": "code",
   "execution_count": 13,
   "metadata": {
    "hidden": true
   },
   "outputs": [
    {
     "data": {
      "text/plain": [
       "(__main__.Perro,\n",
       " __main__.Mascota,\n",
       " __main__.Mamifero,\n",
       " __main__.Animal,\n",
       " __main__.SerVivo,\n",
       " object)"
      ]
     },
     "execution_count": 13,
     "metadata": {},
     "output_type": "execute_result"
    }
   ],
   "source": [
    "Perro.__mro__ # vemos el orden de las clases"
   ]
  },
  {
   "cell_type": "markdown",
   "metadata": {
    "heading_collapsed": true
   },
   "source": [
    "## kwargs y args"
   ]
  },
  {
   "cell_type": "code",
   "execution_count": 70,
   "metadata": {
    "hidden": true
   },
   "outputs": [
    {
     "name": "stdout",
     "output_type": "stream",
     "text": [
      "otro 2\n",
      "3\n",
      "\n",
      "\n",
      "\n",
      "Hello\n",
      "Welcome\n",
      "to\n",
      "GeeksforGeeks\n"
     ]
    }
   ],
   "source": [
    "def funcion(uno,**kwargs):\n",
    "    \n",
    "    print('otro %s' % (kwargs['otro']))\n",
    "    print(kwargs['ma'])\n",
    "    \n",
    "funcion(2,otro='2',ma=3,no=3)\n",
    "\n",
    "print('\\n\\n')\n",
    "\n",
    "def myFun(*argv): \n",
    "\tfor arg in argv: \n",
    "\t\tprint (arg)\n",
    "\n",
    "myFun('Hello', 'Welcome', 'to', 'GeeksforGeeks') \n"
   ]
  },
  {
   "cell_type": "markdown",
   "metadata": {},
   "source": [
    "## with statement\n",
    "\n",
    "Notice that unlike the first two implementations, there is no need to call file.close() when using with statement. The with statement itself ensures proper acquisition and release of resources.\n",
    "\n",
    "The with statement is popularly used with file streams, as shown above and with Locks, sockets, subprocesses and telnets etc."
   ]
  },
  {
   "cell_type": "code",
   "execution_count": 33,
   "metadata": {},
   "outputs": [],
   "source": [
    "# File handling \n",
    "  \n",
    "# 1) without using with statement \n",
    "file = open('file_path', 'w') \n",
    "file.write('hello world !') \n",
    "file.close() \n",
    "  \n",
    "# 2) without using with statement \n",
    "file = open('file_path', 'w') \n",
    "try: \n",
    "    file.write('hello world') \n",
    "finally: \n",
    "    file.close() \n",
    " \n",
    "\n",
    "# using with statement \n",
    "with open('file_path', 'w') as file: \n",
    "    file.write('hello world !') "
   ]
  },
  {
   "cell_type": "code",
   "execution_count": 78,
   "metadata": {},
   "outputs": [],
   "source": [
    "class MessageWriter(object): \n",
    "    \n",
    "    def __init__(self, file_name): \n",
    "        self.file_name = file_name \n",
    "      \n",
    "    def __enter__(self): \n",
    "        self.file = open(self.file_name, 'a') \n",
    "        return self.file\n",
    "    \n",
    "    def __exit__(self,a,b,c): #que pintan esos argumentos? donde se le envian?\n",
    "        self.file.close() \n",
    "\n",
    "with MessageWriter('C:/Users/vr255019/OneDrive - Teradata/Desktop/nota.txt') as xfile: \n",
    "    xfile.write('linea de prueba\\n')     \n",
    "\n",
    "    # a partir de aqui el xfile ya es un fichero CERRADO, pues se ha encargado el with de eso"
   ]
  },
  {
   "cell_type": "code",
   "execution_count": 75,
   "metadata": {},
   "outputs": [
    {
     "data": {
      "text/plain": [
       "6"
      ]
     },
     "execution_count": 75,
     "metadata": {},
     "output_type": "execute_result"
    }
   ],
   "source": [
    "open('C:/Users/vr255019/OneDrive - Teradata/Desktop/nota.txt', 'a').write(\"linea2\")"
   ]
  },
  {
   "cell_type": "markdown",
   "metadata": {
    "heading_collapsed": true
   },
   "source": [
    "## __file__ attribute y Path"
   ]
  },
  {
   "cell_type": "markdown",
   "metadata": {
    "hidden": true
   },
   "source": [
    "Nos indica donde esta alojado el .py desde el cual lanzamos el comando __file__.\n",
    "\n",
    "No funciona en notebooks, solo en ficheros .py asi que podemos comprobarlo en Visual Studio Code"
   ]
  },
  {
   "cell_type": "code",
   "execution_count": null,
   "metadata": {
    "hidden": true
   },
   "outputs": [],
   "source": [
    "from pathlib import Path\n",
    "\n",
    "print(__file__) # mostraria donde esta este notebook si fuera un .py\n",
    "print(Path(__file__).parent) # nos mostraria la carpeta donde esta alojado este notebook si fuera un .py"
   ]
  },
  {
   "cell_type": "markdown",
   "metadata": {},
   "source": [
    "## Parametros pasados atípicamente"
   ]
  },
  {
   "cell_type": "code",
   "execution_count": 93,
   "metadata": {},
   "outputs": [],
   "source": [
    "class Pipeline(object):\n",
    "    def __init__(self, spark_session, pipeline_conf):    \n",
    "        self.spark = spark_session\n",
    "        self.conf = {\"model_transformation\":{\"name\":'model_transformation_sample'}}\n",
    "\n",
    "class ModelTransformationSample(ModelTransformation):\n",
    "    def __init__(self,SC1, PC1):\n",
    "        super().__init__(SC1,PC1)    \n",
    "        \n",
    "class ModelPipeline(Pipeline):\n",
    "    \n",
    "    MODEL_TRANSFORMERS = { \"model_transformation_sample\": ModelTransformationSample }\n",
    "    \n",
    "    def __init__(self, spark_session, pipeline_conf):\n",
    "        super().__init__(spark_session, pipeline_conf)\n",
    "        self.model_transformation_handler = self.get_model_transformer()(SC1=spark_session, PC1=self.conf[\"model_transformation\"])\n",
    " \n",
    "    def get_model_transformer(self):        \n",
    "        model_transformer_name = self.conf[\"model_transformation\"][\"name\"]        \n",
    "        model_transformer = self.MODEL_TRANSFORMERS[model_transformer_name]       \n",
    "        assert issubclass(model_transformer, ModelTransformation), \"{mt_name} is not a ModelTransformation\".format(mt_name=model_transformer_name)\n",
    "        return model_transformer    \n",
    "\n",
    "a = ModelPipeline('a','b')"
   ]
  },
  {
   "cell_type": "code",
   "execution_count": 71,
   "metadata": {},
   "outputs": [
    {
     "data": {
      "text/plain": [
       "'Carlos'"
      ]
     },
     "execution_count": 71,
     "metadata": {},
     "output_type": "execute_result"
    }
   ],
   "source": [
    "class Primo():\n",
    "    \n",
    "    def __init__(self,Nombre,Apellido):\n",
    "        self.nombre = Nombre\n",
    "        \n",
    "class Hijo():\n",
    "    \n",
    "    def __init__(self,nom,ape):\n",
    "        self.instancia_primo = self.CreoInstanciaDePrimo()(Nombre=nom,Apellido=ape)\n",
    "    \n",
    "    def CreoInstanciaDePrimo(self):\n",
    "        return Primo  \n",
    "        \n",
    "obk = Hijo('Carlos','Garcia')\n",
    "obk.instancia_primo.nombre"
   ]
  },
  {
   "cell_type": "code",
   "execution_count": 72,
   "metadata": {},
   "outputs": [
    {
     "data": {
      "text/plain": [
       "'Carlos'"
      ]
     },
     "execution_count": 72,
     "metadata": {},
     "output_type": "execute_result"
    }
   ],
   "source": [
    "class Primo():\n",
    "    \n",
    "    def __init__(self,Nombre,Apellido):\n",
    "        self.nombre = Nombre\n",
    "        \n",
    "class Hijo():\n",
    "    \n",
    "    def __init__(self,nom,ape):\n",
    "        self.instancia_primo = self.CreoInstanciaDePrimo(nom,ape)\n",
    "    \n",
    "    def CreoInstanciaDePrimo(self,name,surname):\n",
    "        return Primo(name,surname)  \n",
    "        \n",
    "obk = Hijo('Carlos','Garcia')\n",
    "obk.instancia_primo.nombre"
   ]
  },
  {
   "cell_type": "code",
   "execution_count": 81,
   "metadata": {},
   "outputs": [
    {
     "data": {
      "text/plain": [
       "'Perro'"
      ]
     },
     "execution_count": 81,
     "metadata": {},
     "output_type": "execute_result"
    }
   ],
   "source": [
    "class Animal():\n",
    "    \n",
    "    def __init__(self,tipo):\n",
    "        self.tipo = tipo\n",
    "\n",
    "def Crear():\n",
    "    return Animal\n",
    "    \n",
    "obj = Crear()(tipo='Perro')\n",
    "obj.tipo"
   ]
  },
  {
   "cell_type": "code",
   "execution_count": 92,
   "metadata": {},
   "outputs": [
    {
     "data": {
      "text/plain": [
       "NoneType"
      ]
     },
     "execution_count": 92,
     "metadata": {},
     "output_type": "execute_result"
    }
   ],
   "source": [
    "class Animal():\n",
    "    \n",
    "    def __init__(self,tipo):\n",
    "        self.tipo = tipo        \n",
    "\n",
    "def Crear(tip):    \n",
    "    Animal(tip)\n",
    "    \n",
    "obj = Crear('Perro')"
   ]
  },
  {
   "cell_type": "code",
   "execution_count": 88,
   "metadata": {},
   "outputs": [
    {
     "data": {
      "text/plain": [
       "'perro'"
      ]
     },
     "execution_count": 88,
     "metadata": {},
     "output_type": "execute_result"
    }
   ],
   "source": [
    "Animal('perro').tipo"
   ]
  },
  {
   "cell_type": "markdown",
   "metadata": {
    "heading_collapsed": true
   },
   "source": [
    "# K-means a mano"
   ]
  },
  {
   "cell_type": "code",
   "execution_count": null,
   "metadata": {
    "hidden": true
   },
   "outputs": [],
   "source": []
  },
  {
   "cell_type": "code",
   "execution_count": 9,
   "metadata": {
    "hidden": true
   },
   "outputs": [],
   "source": [
    "class my_KMeans():\n",
    "    \n",
    "    def __init__(self,K):\n",
    "        self.K = K\n",
    "    \n",
    "    def fit(self,data):\n",
    "        self.data = data       \n"
   ]
  },
  {
   "cell_type": "code",
   "execution_count": 12,
   "metadata": {
    "hidden": true
   },
   "outputs": [
    {
     "data": {
      "text/plain": [
       "3"
      ]
     },
     "execution_count": 12,
     "metadata": {},
     "output_type": "execute_result"
    }
   ],
   "source": []
  },
  {
   "cell_type": "code",
   "execution_count": 10,
   "metadata": {
    "hidden": true
   },
   "outputs": [],
   "source": [
    "# puntos de R3, generamos 10\n",
    "import random\n",
    "\n",
    "datos = [(random.randint(0,20),random.randint(0,20),random.randint(0,20)) for a in range(10)]\n",
    "\n",
    "mi_modelo = my_KMeans(3)\n",
    "mi_modelo.fit(datos)"
   ]
  },
  {
   "cell_type": "code",
   "execution_count": 11,
   "metadata": {
    "hidden": true
   },
   "outputs": [
    {
     "data": {
      "text/plain": [
       "[(1, 11, 1),\n",
       " (5, 19, 14),\n",
       " (5, 20, 4),\n",
       " (1, 12, 12),\n",
       " (15, 11, 19),\n",
       " (16, 3, 5),\n",
       " (18, 16, 6),\n",
       " (19, 1, 2),\n",
       " (15, 12, 11),\n",
       " (10, 18, 15)]"
      ]
     },
     "execution_count": 11,
     "metadata": {},
     "output_type": "execute_result"
    }
   ],
   "source": [
    "mi_modelo.data"
   ]
  },
  {
   "cell_type": "markdown",
   "metadata": {},
   "source": [
    "# Réplica BAU- tech ant"
   ]
  },
  {
   "cell_type": "code",
   "execution_count": 13,
   "metadata": {},
   "outputs": [
    {
     "name": "stdout",
     "output_type": "stream",
     "text": [
      "Configuration used for predictions is at: C:\\Users\\vr255019\\OneDrive - Teradata\\Desktop\\new_training\\GEAOSP_UC34_Quality_DS\\tech_ant\\remedies\\conf\\discovery\\predictions_model_sample.json\n"
     ]
    }
   ],
   "source": [
    "PREDICT_CONF = \"C:\\\\Users\\\\vr255019\\\\OneDrive - Teradata\\\\Desktop\\\\new_training\\\\GEAOSP_UC34_Quality_DS\\\\tech_ant\\\\remedies\\\\conf\\\\discovery\\\\predictions_model_sample.json\"\n",
    "print(\"Configuration used for predictions is at:\", PREDICT_CONF)"
   ]
  },
  {
   "cell_type": "code",
   "execution_count": 29,
   "metadata": {},
   "outputs": [],
   "source": [
    "import json\n",
    "from pathlib import Path\n",
    "\n",
    "def load_json(path):\n",
    "    \"\"\"Load json and return it as a dict\n",
    "\n",
    "    Args:\n",
    "        path (string or Path): json path to be loaded\n",
    "\n",
    "    Returns:\n",
    "        dict: json loaded\n",
    "    \"\"\"    \n",
    "    print(path)\n",
    "    with Path(path).open(\"r\") as fp:\n",
    "        result = json.load(fp)\n",
    "   \n",
    "    return result"
   ]
  },
  {
   "cell_type": "code",
   "execution_count": 30,
   "metadata": {},
   "outputs": [],
   "source": [
    "class Pipeline(object):\n",
    " \n",
    "    def __init__(self, pipeline_conf):\n",
    "\n",
    "        print(type(pipeline_conf))\n",
    "        self.conf = pipeline_conf if isinstance(pipeline_conf, dict) else load_json(pipeline_conf)\n",
    "\n",
    "\n",
    "class ModelPipeline(Pipeline):\n",
    "\n",
    "    def __init__(self, pipeline_conf):\n",
    "\n",
    "        super().__init__(pipeline_conf)\n",
    "\n",
    "class PredictModel(ModelPipeline):\n",
    "\n",
    "    def __init__(self, pipeline_conf):\n",
    "  \n",
    "        super().__init__(pipeline_conf)\n"
   ]
  },
  {
   "cell_type": "code",
   "execution_count": 31,
   "metadata": {},
   "outputs": [
    {
     "name": "stdout",
     "output_type": "stream",
     "text": [
      "<class 'str'>\n",
      "C:\\Users\\vr255019\\OneDrive - Teradata\\Desktop\\new_training\\GEAOSP_UC34_Quality_DS\\tech_ant\\remedies\\conf\\discovery\\predictions_model_sample.json\n"
     ]
    }
   ],
   "source": [
    "predict_pipe = PredictModel(pipeline_conf=PREDICT_CONF)"
   ]
  },
  {
   "cell_type": "code",
   "execution_count": 28,
   "metadata": {},
   "outputs": [
    {
     "data": {
      "text/plain": [
       "{'etl': {'linarejos_previous_days_data': 7, 'portfolio_previous_days_data': 7},\n",
       " 'model_transformation': {'name': 'model_transformation_sample',\n",
       "  'selected_cols': ['voicenumber',\n",
       "   'dt_caso',\n",
       "   'FIB_last_week_upstream_errors',\n",
       "   'FIB_last_week_count_ont_down',\n",
       "   'FIB_yesterday_upstream_errors',\n",
       "   'FIB_latest_operational_status',\n",
       "   'FIB_latest_days_since_last_down_state',\n",
       "   'FIB_latest_upstream_errors',\n",
       "   'day_of_week',\n",
       "   'SERV_has_speed_changed_last_7_days',\n",
       "   'SERV_speed_des',\n",
       "   'SERV_n_days_service_until_remedy'],\n",
       "  'upstream_lower_bound': 3000},\n",
       " 'scinet': {'config_ini': 'sample'},\n",
       " 'save_predict_etl': True,\n",
       " 'reuse_etl': False,\n",
       " 'predict_etl_output_path': 's3://s3-osp-squad6-nonprod-cloud-main/technical_anticipation/tables/predict_etl_remedies_jazztel.parquet',\n",
       " 'predict_dataset_output_path': 's3://s3-osp-squad6-nonprod-cloud-main/technical_anticipation/tables/predict_dataset_remedies_jazztel.parquet',\n",
       " 'scinet_scoring_file': 's3://s3-osp-squad6-nonprod-cloud-main/technical_anticipation/tables/scinet_scoring_remedies_jazztel.parquet',\n",
       " 'filter_clients_with_remedies_within_x_days': 14}"
      ]
     },
     "execution_count": 28,
     "metadata": {},
     "output_type": "execute_result"
    }
   ],
   "source": [
    "predict_pipe.conf"
   ]
  },
  {
   "cell_type": "markdown",
   "metadata": {
    "heading_collapsed": true
   },
   "source": [
    "# Otros"
   ]
  },
  {
   "cell_type": "code",
   "execution_count": 95,
   "metadata": {
    "hidden": true
   },
   "outputs": [
    {
     "data": {
      "text/plain": [
       "dict"
      ]
     },
     "execution_count": 95,
     "metadata": {},
     "output_type": "execute_result"
    }
   ],
   "source": [
    "import json \n",
    "from pathlib import Path\n",
    "\n",
    "ruta = \"C:/Users/vr255019/OneDrive - Teradata/Desktop/nota.json\"\n",
    "t = Path(ruta).open('r')\n",
    "\n",
    "a = (json.load(t))\n",
    "type(a)"
   ]
  },
  {
   "cell_type": "code",
   "execution_count": 96,
   "metadata": {
    "hidden": true
   },
   "outputs": [
    {
     "data": {
      "text/plain": [
       "{'uno': [1, 2, 3], 'dos': 'hola', 'tres': 4}"
      ]
     },
     "execution_count": 96,
     "metadata": {},
     "output_type": "execute_result"
    }
   ],
   "source": [
    "a"
   ]
  },
  {
   "cell_type": "code",
   "execution_count": 92,
   "metadata": {
    "hidden": true
   },
   "outputs": [],
   "source": []
  },
  {
   "cell_type": "code",
   "execution_count": 94,
   "metadata": {
    "hidden": true
   },
   "outputs": [
    {
     "ename": "JSONDecodeError",
     "evalue": "Expecting value: line 1 column 1 (char 0)",
     "output_type": "error",
     "traceback": [
      "\u001b[1;31m---------------------------------------------------------------------------\u001b[0m",
      "\u001b[1;31mJSONDecodeError\u001b[0m                           Traceback (most recent call last)",
      "\u001b[1;32m<ipython-input-94-6da36f35e9dd>\u001b[0m in \u001b[0;36m<module>\u001b[1;34m\u001b[0m\n\u001b[1;32m----> 1\u001b[1;33m \u001b[0ma\u001b[0m \u001b[1;33m=\u001b[0m \u001b[1;33m(\u001b[0m\u001b[0mjson\u001b[0m\u001b[1;33m.\u001b[0m\u001b[0mload\u001b[0m\u001b[1;33m(\u001b[0m\u001b[0mt\u001b[0m\u001b[1;33m)\u001b[0m\u001b[1;33m)\u001b[0m\u001b[1;33m\u001b[0m\u001b[1;33m\u001b[0m\u001b[0m\n\u001b[0m",
      "\u001b[1;32m~\\Anaconda3\\lib\\json\\__init__.py\u001b[0m in \u001b[0;36mload\u001b[1;34m(fp, cls, object_hook, parse_float, parse_int, parse_constant, object_pairs_hook, **kw)\u001b[0m\n\u001b[0;32m    291\u001b[0m     \u001b[0mkwarg\u001b[0m\u001b[1;33m;\u001b[0m \u001b[0motherwise\u001b[0m\u001b[0;31m \u001b[0m\u001b[0;31m`\u001b[0m\u001b[0;31m`\u001b[0m\u001b[0mJSONDecoder\u001b[0m\u001b[0;31m`\u001b[0m\u001b[0;31m`\u001b[0m \u001b[1;32mis\u001b[0m \u001b[0mused\u001b[0m\u001b[1;33m.\u001b[0m\u001b[1;33m\u001b[0m\u001b[1;33m\u001b[0m\u001b[0m\n\u001b[0;32m    292\u001b[0m     \"\"\"\n\u001b[1;32m--> 293\u001b[1;33m     return loads(fp.read(),\n\u001b[0m\u001b[0;32m    294\u001b[0m         \u001b[0mcls\u001b[0m\u001b[1;33m=\u001b[0m\u001b[0mcls\u001b[0m\u001b[1;33m,\u001b[0m \u001b[0mobject_hook\u001b[0m\u001b[1;33m=\u001b[0m\u001b[0mobject_hook\u001b[0m\u001b[1;33m,\u001b[0m\u001b[1;33m\u001b[0m\u001b[1;33m\u001b[0m\u001b[0m\n\u001b[0;32m    295\u001b[0m         \u001b[0mparse_float\u001b[0m\u001b[1;33m=\u001b[0m\u001b[0mparse_float\u001b[0m\u001b[1;33m,\u001b[0m \u001b[0mparse_int\u001b[0m\u001b[1;33m=\u001b[0m\u001b[0mparse_int\u001b[0m\u001b[1;33m,\u001b[0m\u001b[1;33m\u001b[0m\u001b[1;33m\u001b[0m\u001b[0m\n",
      "\u001b[1;32m~\\Anaconda3\\lib\\json\\__init__.py\u001b[0m in \u001b[0;36mloads\u001b[1;34m(s, cls, object_hook, parse_float, parse_int, parse_constant, object_pairs_hook, **kw)\u001b[0m\n\u001b[0;32m    355\u001b[0m             \u001b[0mparse_int\u001b[0m \u001b[1;32mis\u001b[0m \u001b[1;32mNone\u001b[0m \u001b[1;32mand\u001b[0m \u001b[0mparse_float\u001b[0m \u001b[1;32mis\u001b[0m \u001b[1;32mNone\u001b[0m \u001b[1;32mand\u001b[0m\u001b[1;33m\u001b[0m\u001b[1;33m\u001b[0m\u001b[0m\n\u001b[0;32m    356\u001b[0m             parse_constant is None and object_pairs_hook is None and not kw):\n\u001b[1;32m--> 357\u001b[1;33m         \u001b[1;32mreturn\u001b[0m \u001b[0m_default_decoder\u001b[0m\u001b[1;33m.\u001b[0m\u001b[0mdecode\u001b[0m\u001b[1;33m(\u001b[0m\u001b[0ms\u001b[0m\u001b[1;33m)\u001b[0m\u001b[1;33m\u001b[0m\u001b[1;33m\u001b[0m\u001b[0m\n\u001b[0m\u001b[0;32m    358\u001b[0m     \u001b[1;32mif\u001b[0m \u001b[0mcls\u001b[0m \u001b[1;32mis\u001b[0m \u001b[1;32mNone\u001b[0m\u001b[1;33m:\u001b[0m\u001b[1;33m\u001b[0m\u001b[1;33m\u001b[0m\u001b[0m\n\u001b[0;32m    359\u001b[0m         \u001b[0mcls\u001b[0m \u001b[1;33m=\u001b[0m \u001b[0mJSONDecoder\u001b[0m\u001b[1;33m\u001b[0m\u001b[1;33m\u001b[0m\u001b[0m\n",
      "\u001b[1;32m~\\Anaconda3\\lib\\json\\decoder.py\u001b[0m in \u001b[0;36mdecode\u001b[1;34m(self, s, _w)\u001b[0m\n\u001b[0;32m    335\u001b[0m \u001b[1;33m\u001b[0m\u001b[0m\n\u001b[0;32m    336\u001b[0m         \"\"\"\n\u001b[1;32m--> 337\u001b[1;33m         \u001b[0mobj\u001b[0m\u001b[1;33m,\u001b[0m \u001b[0mend\u001b[0m \u001b[1;33m=\u001b[0m \u001b[0mself\u001b[0m\u001b[1;33m.\u001b[0m\u001b[0mraw_decode\u001b[0m\u001b[1;33m(\u001b[0m\u001b[0ms\u001b[0m\u001b[1;33m,\u001b[0m \u001b[0midx\u001b[0m\u001b[1;33m=\u001b[0m\u001b[0m_w\u001b[0m\u001b[1;33m(\u001b[0m\u001b[0ms\u001b[0m\u001b[1;33m,\u001b[0m \u001b[1;36m0\u001b[0m\u001b[1;33m)\u001b[0m\u001b[1;33m.\u001b[0m\u001b[0mend\u001b[0m\u001b[1;33m(\u001b[0m\u001b[1;33m)\u001b[0m\u001b[1;33m)\u001b[0m\u001b[1;33m\u001b[0m\u001b[1;33m\u001b[0m\u001b[0m\n\u001b[0m\u001b[0;32m    338\u001b[0m         \u001b[0mend\u001b[0m \u001b[1;33m=\u001b[0m \u001b[0m_w\u001b[0m\u001b[1;33m(\u001b[0m\u001b[0ms\u001b[0m\u001b[1;33m,\u001b[0m \u001b[0mend\u001b[0m\u001b[1;33m)\u001b[0m\u001b[1;33m.\u001b[0m\u001b[0mend\u001b[0m\u001b[1;33m(\u001b[0m\u001b[1;33m)\u001b[0m\u001b[1;33m\u001b[0m\u001b[1;33m\u001b[0m\u001b[0m\n\u001b[0;32m    339\u001b[0m         \u001b[1;32mif\u001b[0m \u001b[0mend\u001b[0m \u001b[1;33m!=\u001b[0m \u001b[0mlen\u001b[0m\u001b[1;33m(\u001b[0m\u001b[0ms\u001b[0m\u001b[1;33m)\u001b[0m\u001b[1;33m:\u001b[0m\u001b[1;33m\u001b[0m\u001b[1;33m\u001b[0m\u001b[0m\n",
      "\u001b[1;32m~\\Anaconda3\\lib\\json\\decoder.py\u001b[0m in \u001b[0;36mraw_decode\u001b[1;34m(self, s, idx)\u001b[0m\n\u001b[0;32m    353\u001b[0m             \u001b[0mobj\u001b[0m\u001b[1;33m,\u001b[0m \u001b[0mend\u001b[0m \u001b[1;33m=\u001b[0m \u001b[0mself\u001b[0m\u001b[1;33m.\u001b[0m\u001b[0mscan_once\u001b[0m\u001b[1;33m(\u001b[0m\u001b[0ms\u001b[0m\u001b[1;33m,\u001b[0m \u001b[0midx\u001b[0m\u001b[1;33m)\u001b[0m\u001b[1;33m\u001b[0m\u001b[1;33m\u001b[0m\u001b[0m\n\u001b[0;32m    354\u001b[0m         \u001b[1;32mexcept\u001b[0m \u001b[0mStopIteration\u001b[0m \u001b[1;32mas\u001b[0m \u001b[0merr\u001b[0m\u001b[1;33m:\u001b[0m\u001b[1;33m\u001b[0m\u001b[1;33m\u001b[0m\u001b[0m\n\u001b[1;32m--> 355\u001b[1;33m             \u001b[1;32mraise\u001b[0m \u001b[0mJSONDecodeError\u001b[0m\u001b[1;33m(\u001b[0m\u001b[1;34m\"Expecting value\"\u001b[0m\u001b[1;33m,\u001b[0m \u001b[0ms\u001b[0m\u001b[1;33m,\u001b[0m \u001b[0merr\u001b[0m\u001b[1;33m.\u001b[0m\u001b[0mvalue\u001b[0m\u001b[1;33m)\u001b[0m \u001b[1;32mfrom\u001b[0m \u001b[1;32mNone\u001b[0m\u001b[1;33m\u001b[0m\u001b[1;33m\u001b[0m\u001b[0m\n\u001b[0m\u001b[0;32m    356\u001b[0m         \u001b[1;32mreturn\u001b[0m \u001b[0mobj\u001b[0m\u001b[1;33m,\u001b[0m \u001b[0mend\u001b[0m\u001b[1;33m\u001b[0m\u001b[1;33m\u001b[0m\u001b[0m\n",
      "\u001b[1;31mJSONDecodeError\u001b[0m: Expecting value: line 1 column 1 (char 0)"
     ]
    }
   ],
   "source": []
  },
  {
   "cell_type": "markdown",
   "metadata": {},
   "source": [
    "# Ejercicios de clases"
   ]
  },
  {
   "cell_type": "markdown",
   "metadata": {},
   "source": [
    "<!-- Exercise 1\n",
    "Follow the steps:\n",
    "\n",
    "Create a class, Triangle. Its __init__() method should take self, angle1, angle2, and angle3 as arguments. Make sure to set these appropriately in the body of the __init__()method.\n",
    "Create a variable named number_of_sides and set it equal to 3.\n",
    "Create a method named check_angles. The sum of a triangle's three angles is It should return True if the sum of self.angle1, self.angle2, and self.angle3 is equal 180, and False otherwise.\n",
    "Create a variable named my_triangle and set it equal to a new instance of your Triangle class. Pass it three angles that sum to 180 (e.g. 90, 30, 60).\n",
    "Print out my_triangle.number_of_sides and print out my_triangle.check_angles(). -->"
   ]
  },
  {
   "cell_type": "code",
   "execution_count": null,
   "metadata": {},
   "outputs": [],
   "source": [
    "class Triangle():\n",
    "    def __init__(self,angle1,angle2,angle3):"
   ]
  },
  {
   "cell_type": "markdown",
   "metadata": {},
   "source": [
    "# XGboost"
   ]
  },
  {
   "cell_type": "markdown",
   "metadata": {},
   "source": [
    "## https://buildmedia.readthedocs.org/media/pdf/xgboost/latest/xgboost.pdf"
   ]
  },
  {
   "cell_type": "code",
   "execution_count": 95,
   "metadata": {},
   "outputs": [
    {
     "name": "stdout",
     "output_type": "stream",
     "text": [
      "Collecting xgboost\n",
      "  Downloading xgboost-1.2.0-py3-none-win_amd64.whl (86.5 MB)\n",
      "Requirement already satisfied: scipy in c:\\users\\vr255019\\anaconda3\\lib\\site-packages (from xgboost) (1.5.0)\n",
      "Requirement already satisfied: numpy in c:\\users\\vr255019\\anaconda3\\lib\\site-packages (from xgboost) (1.18.5)\n",
      "Installing collected packages: xgboost\n",
      "Successfully installed xgboost-1.2.0\n",
      "Note: you may need to restart the kernel to use updated packages.\n"
     ]
    }
   ],
   "source": [
    "pip install xgboost"
   ]
  },
  {
   "cell_type": "code",
   "execution_count": 14,
   "metadata": {},
   "outputs": [],
   "source": [
    "import xgboost as xgb\n",
    "dtrain = xgb.DMatrix('DATOS/agaricus.txt.train')\n",
    "dtest = xgb.DMatrix('DATOS/agaricus.txt.test')"
   ]
  },
  {
   "cell_type": "code",
   "execution_count": 15,
   "metadata": {},
   "outputs": [],
   "source": [
    "# specify parameters via map\n",
    "param = {'max_depth':2, 'eta':1, 'objective':'binary:logistic' }\n",
    "num_round = 2\n",
    "bst = xgb.train(param, dtrain, num_round)\n",
    "# make prediction\n",
    "preds = bst.predict(dtest)"
   ]
  },
  {
   "cell_type": "code",
   "execution_count": 16,
   "metadata": {},
   "outputs": [
    {
     "data": {
      "text/plain": [
       "array([0.28583017, 0.9239239 , 0.28583017, ..., 0.9239239 , 0.05169873,\n",
       "       0.9239239 ], dtype=float32)"
      ]
     },
     "execution_count": 16,
     "metadata": {},
     "output_type": "execute_result"
    }
   ],
   "source": [
    "preds"
   ]
  },
  {
   "cell_type": "markdown",
   "metadata": {},
   "source": [
    "## https://machinelearningmastery.com/develop-first-xgboost-model-python-scikit-learn/"
   ]
  },
  {
   "cell_type": "code",
   "execution_count": 1,
   "metadata": {},
   "outputs": [],
   "source": [
    "from numpy import loadtxt\n",
    "from xgboost import XGBClassifier\n",
    "from sklearn.model_selection import train_test_split\n",
    "from sklearn.metrics import accuracy_score"
   ]
  },
  {
   "cell_type": "code",
   "execution_count": 15,
   "metadata": {},
   "outputs": [],
   "source": [
    "# load data\n",
    "dataset = loadtxt('DATOS/pima-indians-diabetes.csv', delimiter=\",\")"
   ]
  },
  {
   "cell_type": "code",
   "execution_count": null,
   "metadata": {},
   "outputs": [],
   "source": [
    "# contamos con 768 filas/registros\n",
    "# tenemos para cada fila/registro, 8 features y 1 target\n",
    "# los separamos"
   ]
  },
  {
   "cell_type": "code",
   "execution_count": 34,
   "metadata": {},
   "outputs": [
    {
     "data": {
      "text/plain": [
       "array([  6.   , 148.   ,  72.   ,  35.   ,   0.   ,  33.6  ,   0.627,\n",
       "        50.   ,   1.   ])"
      ]
     },
     "execution_count": 34,
     "metadata": {},
     "output_type": "execute_result"
    }
   ],
   "source": [
    "dataset[0]"
   ]
  },
  {
   "cell_type": "code",
   "execution_count": 26,
   "metadata": {},
   "outputs": [],
   "source": [
    "X = dataset[:,0:8]\n",
    "Y = dataset[:,8]"
   ]
  },
  {
   "cell_type": "code",
   "execution_count": 37,
   "metadata": {},
   "outputs": [
    {
     "name": "stdout",
     "output_type": "stream",
     "text": [
      "features [  6.    148.     72.     35.      0.     33.6     0.627  50.   ]\n",
      "target 1.0\n"
     ]
    }
   ],
   "source": [
    "print('features',X[0])\n",
    "print('target',Y[0])"
   ]
  },
  {
   "cell_type": "code",
   "execution_count": 38,
   "metadata": {},
   "outputs": [],
   "source": [
    "# split data into train and test sets\n",
    "seed = 7\n",
    "test_size = 0.33\n",
    "X_train, X_test, y_train, y_test = train_test_split(X, Y, test_size=test_size, random_state=seed)"
   ]
  },
  {
   "cell_type": "code",
   "execution_count": 9,
   "metadata": {},
   "outputs": [
    {
     "data": {
      "text/plain": [
       "XGBClassifier(base_score=0.5, booster='gbtree', colsample_bylevel=1,\n",
       "              colsample_bynode=1, colsample_bytree=1, gamma=0, gpu_id=-1,\n",
       "              importance_type='gain', interaction_constraints='',\n",
       "              learning_rate=0.300000012, max_delta_step=0, max_depth=6,\n",
       "              min_child_weight=1, missing=nan, monotone_constraints='()',\n",
       "              n_estimators=100, n_jobs=0, num_parallel_tree=1, random_state=0,\n",
       "              reg_alpha=0, reg_lambda=1, scale_pos_weight=1, subsample=1,\n",
       "              tree_method='exact', validate_parameters=1, verbosity=None)"
      ]
     },
     "execution_count": 9,
     "metadata": {},
     "output_type": "execute_result"
    }
   ],
   "source": [
    "# fit model no training data\n",
    "model = XGBClassifier()\n",
    "model.fit(X_train, y_train)"
   ]
  },
  {
   "cell_type": "code",
   "execution_count": 10,
   "metadata": {},
   "outputs": [
    {
     "name": "stdout",
     "output_type": "stream",
     "text": [
      "XGBClassifier(base_score=0.5, booster='gbtree', colsample_bylevel=1,\n",
      "              colsample_bynode=1, colsample_bytree=1, gamma=0, gpu_id=-1,\n",
      "              importance_type='gain', interaction_constraints='',\n",
      "              learning_rate=0.300000012, max_delta_step=0, max_depth=6,\n",
      "              min_child_weight=1, missing=nan, monotone_constraints='()',\n",
      "              n_estimators=100, n_jobs=0, num_parallel_tree=1, random_state=0,\n",
      "              reg_alpha=0, reg_lambda=1, scale_pos_weight=1, subsample=1,\n",
      "              tree_method='exact', validate_parameters=1, verbosity=None)\n"
     ]
    }
   ],
   "source": [
    "print(model)"
   ]
  },
  {
   "cell_type": "code",
   "execution_count": 11,
   "metadata": {},
   "outputs": [],
   "source": [
    "\n",
    "# make predictions for test data\n",
    "y_pred = model.predict(X_test)\n",
    "predictions = [round(value) for value in y_pred]\n",
    "\n",
    "# make predictions for test data\n",
    "y_pred = model.predict(X_test)\n",
    "predictions = [round(value) for value in y_pred]"
   ]
  },
  {
   "cell_type": "code",
   "execution_count": 12,
   "metadata": {},
   "outputs": [
    {
     "name": "stdout",
     "output_type": "stream",
     "text": [
      "Accuracy: 74.02%\n"
     ]
    }
   ],
   "source": [
    "accuracy = accuracy_score(y_test, predictions)\n",
    "print(\"Accuracy: %.2f%%\" % (accuracy * 100.0))"
   ]
  },
  {
   "cell_type": "code",
   "execution_count": 14,
   "metadata": {},
   "outputs": [
    {
     "name": "stdout",
     "output_type": "stream",
     "text": [
      "Accuracy: 74.02%\n"
     ]
    }
   ],
   "source": [
    "# First XGBoost model for Pima Indians dataset\n",
    "from numpy import loadtxt\n",
    "from xgboost import XGBClassifier\n",
    "from sklearn.model_selection import train_test_split\n",
    "from sklearn.metrics import accuracy_score\n",
    "# load data\n",
    "dataset = loadtxt('DATOS/pima-indians-diabetes.csv', delimiter=\",\")\n",
    "# split data into X and y\n",
    "X = dataset[:,0:8]\n",
    "Y = dataset[:,8]\n",
    "# split data into train and test sets\n",
    "seed = 7\n",
    "test_size = 0.33\n",
    "X_train, X_test, y_train, y_test = train_test_split(X, Y, test_size=test_size, random_state=seed)\n",
    "# fit model no training data\n",
    "model = XGBClassifier()\n",
    "model.fit(X_train, y_train)\n",
    "# make predictions for test data\n",
    "y_pred = model.predict(X_test)\n",
    "predictions = [round(value) for value in y_pred]\n",
    "# evaluate predictions\n",
    "accuracy = accuracy_score(y_test, predictions)\n",
    "print(\"Accuracy: %.2f%%\" % (accuracy * 100.0))"
   ]
  }
 ],
 "metadata": {
  "kernelspec": {
   "display_name": "Python 3",
   "language": "python",
   "name": "python3"
  },
  "language_info": {
   "codemirror_mode": {
    "name": "ipython",
    "version": 3
   },
   "file_extension": ".py",
   "mimetype": "text/x-python",
   "name": "python",
   "nbconvert_exporter": "python",
   "pygments_lexer": "ipython3",
   "version": "3.8.3"
  },
  "toc": {
   "base_numbering": 1,
   "nav_menu": {},
   "number_sections": true,
   "sideBar": false,
   "skip_h1_title": false,
   "title_cell": "Table of Contents",
   "title_sidebar": "Contents",
   "toc_cell": false,
   "toc_position": {
    "height": "344px",
    "left": "618px",
    "top": "134px",
    "width": "338px"
   },
   "toc_section_display": false,
   "toc_window_display": true
  }
 },
 "nbformat": 4,
 "nbformat_minor": 4
}
