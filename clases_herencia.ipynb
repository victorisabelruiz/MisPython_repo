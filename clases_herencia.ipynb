{
 "cells": [
  {
   "cell_type": "markdown",
   "metadata": {},
   "source": [
    "# There are three types of methods in Python: instance methods, static methods, and class methods."
   ]
  },
  {
   "cell_type": "code",
   "execution_count": 1,
   "metadata": {},
   "outputs": [],
   "source": [
    "class Rectangle:\n",
    "    def __init__(self, length, width):\n",
    "        self.length = length\n",
    "        self.width = width\n",
    "\n",
    "    def area(self):\n",
    "        return self.length * self.width\n",
    "\n",
    "    def perimeter(self):\n",
    "        return 2 * self.length + 2 * self.width\n",
    "    \n",
    "class Square(Rectangle):\n",
    "    def __init__(self, length):\n",
    "        super().__init__(length, length)\n",
    "\n",
    "class Cube(Square):\n",
    "    def surface_area(self):\n",
    "        face_area = super().area()\n",
    "        return face_area * 6\n",
    "\n",
    "    def volume(self):\n",
    "        face_area = super().area()\n",
    "        return face_area * self.length"
   ]
  },
  {
   "cell_type": "code",
   "execution_count": 2,
   "metadata": {},
   "outputs": [
    {
     "data": {
      "text/plain": [
       "16"
      ]
     },
     "execution_count": 2,
     "metadata": {},
     "output_type": "execute_result"
    }
   ],
   "source": [
    "Cube(4).area()"
   ]
  },
  {
   "cell_type": "code",
   "execution_count": 4,
   "metadata": {},
   "outputs": [
    {
     "name": "stdout",
     "output_type": "stream",
     "text": [
      "4\n",
      "5\n",
      "20\n",
      "18\n",
      "\n",
      "\n",
      "5\n",
      "5\n",
      "25\n",
      "20\n"
     ]
    }
   ],
   "source": [
    "cubo = Cube(3)\n",
    "\n",
    "un_rectangulo = Rectangle(4,5)\n",
    "print(un_rectangulo.length)\n",
    "print(un_rectangulo.width)\n",
    "print(un_rectangulo.area())\n",
    "print(un_rectangulo.perimeter())\n",
    "\n",
    "print(\"\\n\")\n",
    "un_cuadrado = Square(5)\n",
    "print(un_cuadrado.length)\n",
    "print(un_cuadrado.width)\n",
    "print(un_cuadrado.area())\n",
    "print(un_cuadrado.perimeter())"
   ]
  },
  {
   "cell_type": "code",
   "execution_count": 1,
   "metadata": {},
   "outputs": [
    {
     "name": "stdout",
     "output_type": "stream",
     "text": [
      "Hello, World!\n",
      "I'm a decorated function!\n"
     ]
    }
   ],
   "source": [
    "class DecoratorExample:\n",
    "  \"\"\" Example Class \"\"\"\n",
    "  def __init__(self):\n",
    "    \"\"\" Example Setup \"\"\"\n",
    "    print('Hello, World!')\n",
    "  @staticmethod\n",
    "  def example_function():\n",
    "    \"\"\" This method is decorated! \"\"\"\n",
    "    print('I\\'m a decorated function!')\n",
    " \n",
    "de = DecoratorExample()\n",
    "de.example_function()"
   ]
  }
 ],
 "metadata": {
  "kernelspec": {
   "display_name": "Python 3",
   "language": "python",
   "name": "python3"
  },
  "language_info": {
   "codemirror_mode": {
    "name": "ipython",
    "version": 3
   },
   "file_extension": ".py",
   "mimetype": "text/x-python",
   "name": "python",
   "nbconvert_exporter": "python",
   "pygments_lexer": "ipython3",
   "version": "3.8.3"
  }
 },
 "nbformat": 4,
 "nbformat_minor": 4
}
